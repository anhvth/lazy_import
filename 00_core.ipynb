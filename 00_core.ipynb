{
 "cells": [
  {
   "cell_type": "markdown",
   "metadata": {},
   "source": [
    "# core\n",
    "\n",
    "> Fill in a module description here"
   ]
  },
  {
   "cell_type": "code",
   "execution_count": null,
   "metadata": {},
   "outputs": [],
   "source": [
    "#| default_exp core"
   ]
  },
  {
   "cell_type": "code",
   "execution_count": null,
   "metadata": {},
   "outputs": [],
   "source": [
    "#| hide\n",
    "from nbdev.showdoc import *"
   ]
  },
  {
   "cell_type": "code",
   "execution_count": null,
   "metadata": {},
   "outputs": [],
   "source": [
    "#| export\n",
    "class LazyModule(object):\n",
    "    def __init__(self, module_name, old_import=None):\n",
    "        self.module_name = module_name\n",
    "        self.old_import = old_import\n",
    "        self.__tree = dict()\n",
    "\n",
    "    def __getattr__(self, item):\n",
    "        real_module = self.get_real_module()\n",
    "        return getattr(real_module, item)\n",
    "\n",
    "    def get_real_module(self):\n",
    "        if not 'real_module' in self.__tree:\n",
    "            if self.old_import is None:\n",
    "                exec(f'import {self.module_name}')\n",
    "            else:\n",
    "                exec(self.old_import)\n",
    "            module = eval(self.module_name)\n",
    "            assert not str(module).startswith('<class '), \"Lazy module does not support import this class,\\\n",
    "plese use normal import or use the parrent module\"\n",
    "            self.__tree['real_module'] =  module\n",
    "\n",
    "        return self.__tree['real_module']\n",
    "\n",
    "    def __dir__(self):\n",
    "        return dir(self.get_real_module())\n",
    "\n",
    "    def __repr__(self):\n",
    "        real_module = self.get_real_module()\n",
    "        return repr(real_module)"
   ]
  },
  {
   "cell_type": "code",
   "execution_count": null,
   "metadata": {},
   "outputs": [],
   "source": []
  },
  {
   "cell_type": "code",
   "execution_count": null,
   "metadata": {},
   "outputs": [],
   "source": [
    "#| hide\n",
    "import nbdev; nbdev.nbdev_export()"
   ]
  },
  {
   "cell_type": "code",
   "execution_count": null,
   "metadata": {},
   "outputs": [],
   "source": []
  },
  {
   "cell_type": "code",
   "execution_count": null,
   "metadata": {},
   "outputs": [],
   "source": []
  }
 ],
 "metadata": {
  "kernelspec": {
   "display_name": "Python 3 (ipykernel)",
   "language": "python",
   "name": "python3"
  }
 },
 "nbformat": 4,
 "nbformat_minor": 4
}
